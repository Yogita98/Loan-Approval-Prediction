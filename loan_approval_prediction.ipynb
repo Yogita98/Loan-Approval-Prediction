{
  "nbformat": 4,
  "nbformat_minor": 0,
  "metadata": {
    "colab": {
      "name": "Copy of Week_3_Project_Classification_Algorithms.ipynb",
      "provenance": [],
      "collapsed_sections": []
    },
    "kernelspec": {
      "name": "python3",
      "display_name": "Python 3"
    }
  },
  "cells": [
    {
      "cell_type": "markdown",
      "metadata": {
        "id": "qoN-oC9JwsMn",
        "colab_type": "text"
      },
      "source": [
        "# ***Loan Approval Prediction using ML Algorithms and their performance comparison***\n",
        "---\n"
      ]
    },
    {
      "cell_type": "code",
      "metadata": {
        "id": "GBqsFpG0Bp2N",
        "colab_type": "code",
        "colab": {}
      },
      "source": [
        "#imported all the required packages\n",
        "import pandas as pd\n",
        "import numpy as np\n",
        "import matplotlib.pyplot as plt\n",
        "%matplotlib inline\n",
        "from sklearn.impute import KNNImputer\n",
        "from sklearn.model_selection import KFold\n",
        "from sklearn.model_selection import cross_val_score\n",
        "import seaborn as sns\n",
        "from sklearn import metrics"
      ],
      "execution_count": 0,
      "outputs": []
    },
    {
      "cell_type": "code",
      "metadata": {
        "id": "MoPBXZFOMEFJ",
        "colab_type": "code",
        "outputId": "95d115d1-2fc0-4447-8088-46d477721ddc",
        "colab": {
          "base_uri": "https://localhost:8080/",
          "height": 634
        }
      },
      "source": [
        "df_train=pd.read_csv('https://raw.githubusercontent.com/Yogita98/Loan-Status-Classification/master/train_AV3.csv?token=AI66AL4HZBEKUVFEMHB2PBK6WVXZO')\n",
        "df_test=pd.read_csv('https://raw.githubusercontent.com/Yogita98/Loan-Status-Classification/master/test_AV3.csv?token=AI66AL6IBRBDU2CGVIDOXT26WVXV2')\n",
        "df_train.head(20)"
      ],
      "execution_count": 4,
      "outputs": [
        {
          "output_type": "execute_result",
          "data": {
            "text/html": [
              "<div>\n",
              "<style scoped>\n",
              "    .dataframe tbody tr th:only-of-type {\n",
              "        vertical-align: middle;\n",
              "    }\n",
              "\n",
              "    .dataframe tbody tr th {\n",
              "        vertical-align: top;\n",
              "    }\n",
              "\n",
              "    .dataframe thead th {\n",
              "        text-align: right;\n",
              "    }\n",
              "</style>\n",
              "<table border=\"1\" class=\"dataframe\">\n",
              "  <thead>\n",
              "    <tr style=\"text-align: right;\">\n",
              "      <th></th>\n",
              "      <th>Loan_ID</th>\n",
              "      <th>Gender</th>\n",
              "      <th>Married</th>\n",
              "      <th>Dependents</th>\n",
              "      <th>Education</th>\n",
              "      <th>Self_Employed</th>\n",
              "      <th>ApplicantIncome</th>\n",
              "      <th>CoapplicantIncome</th>\n",
              "      <th>LoanAmount</th>\n",
              "      <th>Loan_Amount_Term</th>\n",
              "      <th>Credit_History</th>\n",
              "      <th>Property_Area</th>\n",
              "      <th>Loan_Status</th>\n",
              "    </tr>\n",
              "  </thead>\n",
              "  <tbody>\n",
              "    <tr>\n",
              "      <th>0</th>\n",
              "      <td>LP001002</td>\n",
              "      <td>Male</td>\n",
              "      <td>No</td>\n",
              "      <td>0</td>\n",
              "      <td>Graduate</td>\n",
              "      <td>No</td>\n",
              "      <td>5849</td>\n",
              "      <td>0.0</td>\n",
              "      <td>NaN</td>\n",
              "      <td>360.0</td>\n",
              "      <td>1.0</td>\n",
              "      <td>Urban</td>\n",
              "      <td>Y</td>\n",
              "    </tr>\n",
              "    <tr>\n",
              "      <th>1</th>\n",
              "      <td>LP001003</td>\n",
              "      <td>Male</td>\n",
              "      <td>Yes</td>\n",
              "      <td>1</td>\n",
              "      <td>Graduate</td>\n",
              "      <td>No</td>\n",
              "      <td>4583</td>\n",
              "      <td>1508.0</td>\n",
              "      <td>128.0</td>\n",
              "      <td>360.0</td>\n",
              "      <td>1.0</td>\n",
              "      <td>Rural</td>\n",
              "      <td>N</td>\n",
              "    </tr>\n",
              "    <tr>\n",
              "      <th>2</th>\n",
              "      <td>LP001005</td>\n",
              "      <td>Male</td>\n",
              "      <td>Yes</td>\n",
              "      <td>0</td>\n",
              "      <td>Graduate</td>\n",
              "      <td>Yes</td>\n",
              "      <td>3000</td>\n",
              "      <td>0.0</td>\n",
              "      <td>66.0</td>\n",
              "      <td>360.0</td>\n",
              "      <td>1.0</td>\n",
              "      <td>Urban</td>\n",
              "      <td>Y</td>\n",
              "    </tr>\n",
              "    <tr>\n",
              "      <th>3</th>\n",
              "      <td>LP001006</td>\n",
              "      <td>Male</td>\n",
              "      <td>Yes</td>\n",
              "      <td>0</td>\n",
              "      <td>Not Graduate</td>\n",
              "      <td>No</td>\n",
              "      <td>2583</td>\n",
              "      <td>2358.0</td>\n",
              "      <td>120.0</td>\n",
              "      <td>360.0</td>\n",
              "      <td>1.0</td>\n",
              "      <td>Urban</td>\n",
              "      <td>Y</td>\n",
              "    </tr>\n",
              "    <tr>\n",
              "      <th>4</th>\n",
              "      <td>LP001008</td>\n",
              "      <td>Male</td>\n",
              "      <td>No</td>\n",
              "      <td>0</td>\n",
              "      <td>Graduate</td>\n",
              "      <td>No</td>\n",
              "      <td>6000</td>\n",
              "      <td>0.0</td>\n",
              "      <td>141.0</td>\n",
              "      <td>360.0</td>\n",
              "      <td>1.0</td>\n",
              "      <td>Urban</td>\n",
              "      <td>Y</td>\n",
              "    </tr>\n",
              "    <tr>\n",
              "      <th>5</th>\n",
              "      <td>LP001011</td>\n",
              "      <td>Male</td>\n",
              "      <td>Yes</td>\n",
              "      <td>2</td>\n",
              "      <td>Graduate</td>\n",
              "      <td>Yes</td>\n",
              "      <td>5417</td>\n",
              "      <td>4196.0</td>\n",
              "      <td>267.0</td>\n",
              "      <td>360.0</td>\n",
              "      <td>1.0</td>\n",
              "      <td>Urban</td>\n",
              "      <td>Y</td>\n",
              "    </tr>\n",
              "    <tr>\n",
              "      <th>6</th>\n",
              "      <td>LP001013</td>\n",
              "      <td>Male</td>\n",
              "      <td>Yes</td>\n",
              "      <td>0</td>\n",
              "      <td>Not Graduate</td>\n",
              "      <td>No</td>\n",
              "      <td>2333</td>\n",
              "      <td>1516.0</td>\n",
              "      <td>95.0</td>\n",
              "      <td>360.0</td>\n",
              "      <td>1.0</td>\n",
              "      <td>Urban</td>\n",
              "      <td>Y</td>\n",
              "    </tr>\n",
              "    <tr>\n",
              "      <th>7</th>\n",
              "      <td>LP001014</td>\n",
              "      <td>Male</td>\n",
              "      <td>Yes</td>\n",
              "      <td>3+</td>\n",
              "      <td>Graduate</td>\n",
              "      <td>No</td>\n",
              "      <td>3036</td>\n",
              "      <td>2504.0</td>\n",
              "      <td>158.0</td>\n",
              "      <td>360.0</td>\n",
              "      <td>0.0</td>\n",
              "      <td>Semiurban</td>\n",
              "      <td>N</td>\n",
              "    </tr>\n",
              "    <tr>\n",
              "      <th>8</th>\n",
              "      <td>LP001018</td>\n",
              "      <td>Male</td>\n",
              "      <td>Yes</td>\n",
              "      <td>2</td>\n",
              "      <td>Graduate</td>\n",
              "      <td>No</td>\n",
              "      <td>4006</td>\n",
              "      <td>1526.0</td>\n",
              "      <td>168.0</td>\n",
              "      <td>360.0</td>\n",
              "      <td>1.0</td>\n",
              "      <td>Urban</td>\n",
              "      <td>Y</td>\n",
              "    </tr>\n",
              "    <tr>\n",
              "      <th>9</th>\n",
              "      <td>LP001020</td>\n",
              "      <td>Male</td>\n",
              "      <td>Yes</td>\n",
              "      <td>1</td>\n",
              "      <td>Graduate</td>\n",
              "      <td>No</td>\n",
              "      <td>12841</td>\n",
              "      <td>10968.0</td>\n",
              "      <td>349.0</td>\n",
              "      <td>360.0</td>\n",
              "      <td>1.0</td>\n",
              "      <td>Semiurban</td>\n",
              "      <td>N</td>\n",
              "    </tr>\n",
              "    <tr>\n",
              "      <th>10</th>\n",
              "      <td>LP001024</td>\n",
              "      <td>Male</td>\n",
              "      <td>Yes</td>\n",
              "      <td>2</td>\n",
              "      <td>Graduate</td>\n",
              "      <td>No</td>\n",
              "      <td>3200</td>\n",
              "      <td>700.0</td>\n",
              "      <td>70.0</td>\n",
              "      <td>360.0</td>\n",
              "      <td>1.0</td>\n",
              "      <td>Urban</td>\n",
              "      <td>Y</td>\n",
              "    </tr>\n",
              "    <tr>\n",
              "      <th>11</th>\n",
              "      <td>LP001027</td>\n",
              "      <td>Male</td>\n",
              "      <td>Yes</td>\n",
              "      <td>2</td>\n",
              "      <td>Graduate</td>\n",
              "      <td>NaN</td>\n",
              "      <td>2500</td>\n",
              "      <td>1840.0</td>\n",
              "      <td>109.0</td>\n",
              "      <td>360.0</td>\n",
              "      <td>1.0</td>\n",
              "      <td>Urban</td>\n",
              "      <td>Y</td>\n",
              "    </tr>\n",
              "    <tr>\n",
              "      <th>12</th>\n",
              "      <td>LP001028</td>\n",
              "      <td>Male</td>\n",
              "      <td>Yes</td>\n",
              "      <td>2</td>\n",
              "      <td>Graduate</td>\n",
              "      <td>No</td>\n",
              "      <td>3073</td>\n",
              "      <td>8106.0</td>\n",
              "      <td>200.0</td>\n",
              "      <td>360.0</td>\n",
              "      <td>1.0</td>\n",
              "      <td>Urban</td>\n",
              "      <td>Y</td>\n",
              "    </tr>\n",
              "    <tr>\n",
              "      <th>13</th>\n",
              "      <td>LP001029</td>\n",
              "      <td>Male</td>\n",
              "      <td>No</td>\n",
              "      <td>0</td>\n",
              "      <td>Graduate</td>\n",
              "      <td>No</td>\n",
              "      <td>1853</td>\n",
              "      <td>2840.0</td>\n",
              "      <td>114.0</td>\n",
              "      <td>360.0</td>\n",
              "      <td>1.0</td>\n",
              "      <td>Rural</td>\n",
              "      <td>N</td>\n",
              "    </tr>\n",
              "    <tr>\n",
              "      <th>14</th>\n",
              "      <td>LP001030</td>\n",
              "      <td>Male</td>\n",
              "      <td>Yes</td>\n",
              "      <td>2</td>\n",
              "      <td>Graduate</td>\n",
              "      <td>No</td>\n",
              "      <td>1299</td>\n",
              "      <td>1086.0</td>\n",
              "      <td>17.0</td>\n",
              "      <td>120.0</td>\n",
              "      <td>1.0</td>\n",
              "      <td>Urban</td>\n",
              "      <td>Y</td>\n",
              "    </tr>\n",
              "    <tr>\n",
              "      <th>15</th>\n",
              "      <td>LP001032</td>\n",
              "      <td>Male</td>\n",
              "      <td>No</td>\n",
              "      <td>0</td>\n",
              "      <td>Graduate</td>\n",
              "      <td>No</td>\n",
              "      <td>4950</td>\n",
              "      <td>0.0</td>\n",
              "      <td>125.0</td>\n",
              "      <td>360.0</td>\n",
              "      <td>1.0</td>\n",
              "      <td>Urban</td>\n",
              "      <td>Y</td>\n",
              "    </tr>\n",
              "    <tr>\n",
              "      <th>16</th>\n",
              "      <td>LP001034</td>\n",
              "      <td>Male</td>\n",
              "      <td>No</td>\n",
              "      <td>1</td>\n",
              "      <td>Not Graduate</td>\n",
              "      <td>No</td>\n",
              "      <td>3596</td>\n",
              "      <td>0.0</td>\n",
              "      <td>100.0</td>\n",
              "      <td>240.0</td>\n",
              "      <td>NaN</td>\n",
              "      <td>Urban</td>\n",
              "      <td>Y</td>\n",
              "    </tr>\n",
              "    <tr>\n",
              "      <th>17</th>\n",
              "      <td>LP001036</td>\n",
              "      <td>Female</td>\n",
              "      <td>No</td>\n",
              "      <td>0</td>\n",
              "      <td>Graduate</td>\n",
              "      <td>No</td>\n",
              "      <td>3510</td>\n",
              "      <td>0.0</td>\n",
              "      <td>76.0</td>\n",
              "      <td>360.0</td>\n",
              "      <td>0.0</td>\n",
              "      <td>Urban</td>\n",
              "      <td>N</td>\n",
              "    </tr>\n",
              "    <tr>\n",
              "      <th>18</th>\n",
              "      <td>LP001038</td>\n",
              "      <td>Male</td>\n",
              "      <td>Yes</td>\n",
              "      <td>0</td>\n",
              "      <td>Not Graduate</td>\n",
              "      <td>No</td>\n",
              "      <td>4887</td>\n",
              "      <td>0.0</td>\n",
              "      <td>133.0</td>\n",
              "      <td>360.0</td>\n",
              "      <td>1.0</td>\n",
              "      <td>Rural</td>\n",
              "      <td>N</td>\n",
              "    </tr>\n",
              "    <tr>\n",
              "      <th>19</th>\n",
              "      <td>LP001041</td>\n",
              "      <td>Male</td>\n",
              "      <td>Yes</td>\n",
              "      <td>0</td>\n",
              "      <td>Graduate</td>\n",
              "      <td>NaN</td>\n",
              "      <td>2600</td>\n",
              "      <td>3500.0</td>\n",
              "      <td>115.0</td>\n",
              "      <td>NaN</td>\n",
              "      <td>1.0</td>\n",
              "      <td>Urban</td>\n",
              "      <td>Y</td>\n",
              "    </tr>\n",
              "  </tbody>\n",
              "</table>\n",
              "</div>"
            ],
            "text/plain": [
              "     Loan_ID  Gender Married  ... Credit_History Property_Area Loan_Status\n",
              "0   LP001002    Male      No  ...            1.0         Urban           Y\n",
              "1   LP001003    Male     Yes  ...            1.0         Rural           N\n",
              "2   LP001005    Male     Yes  ...            1.0         Urban           Y\n",
              "3   LP001006    Male     Yes  ...            1.0         Urban           Y\n",
              "4   LP001008    Male      No  ...            1.0         Urban           Y\n",
              "5   LP001011    Male     Yes  ...            1.0         Urban           Y\n",
              "6   LP001013    Male     Yes  ...            1.0         Urban           Y\n",
              "7   LP001014    Male     Yes  ...            0.0     Semiurban           N\n",
              "8   LP001018    Male     Yes  ...            1.0         Urban           Y\n",
              "9   LP001020    Male     Yes  ...            1.0     Semiurban           N\n",
              "10  LP001024    Male     Yes  ...            1.0         Urban           Y\n",
              "11  LP001027    Male     Yes  ...            1.0         Urban           Y\n",
              "12  LP001028    Male     Yes  ...            1.0         Urban           Y\n",
              "13  LP001029    Male      No  ...            1.0         Rural           N\n",
              "14  LP001030    Male     Yes  ...            1.0         Urban           Y\n",
              "15  LP001032    Male      No  ...            1.0         Urban           Y\n",
              "16  LP001034    Male      No  ...            NaN         Urban           Y\n",
              "17  LP001036  Female      No  ...            0.0         Urban           N\n",
              "18  LP001038    Male     Yes  ...            1.0         Rural           N\n",
              "19  LP001041    Male     Yes  ...            1.0         Urban           Y\n",
              "\n",
              "[20 rows x 13 columns]"
            ]
          },
          "metadata": {
            "tags": []
          },
          "execution_count": 4
        }
      ]
    },
    {
      "cell_type": "code",
      "metadata": {
        "id": "CeBy3vmeNx_V",
        "colab_type": "code",
        "outputId": "70272d50-d280-4a75-a370-407cc5749fb1",
        "colab": {
          "base_uri": "https://localhost:8080/",
          "height": 266
        }
      },
      "source": [
        "df_train.isnull().sum()"
      ],
      "execution_count": 5,
      "outputs": [
        {
          "output_type": "execute_result",
          "data": {
            "text/plain": [
              "Loan_ID               0\n",
              "Gender               13\n",
              "Married               3\n",
              "Dependents           15\n",
              "Education             0\n",
              "Self_Employed        32\n",
              "ApplicantIncome       0\n",
              "CoapplicantIncome     0\n",
              "LoanAmount           22\n",
              "Loan_Amount_Term     14\n",
              "Credit_History       50\n",
              "Property_Area         0\n",
              "Loan_Status           0\n",
              "dtype: int64"
            ]
          },
          "metadata": {
            "tags": []
          },
          "execution_count": 5
        }
      ]
    },
    {
      "cell_type": "code",
      "metadata": {
        "id": "zueCvLvvBBp3",
        "colab_type": "code",
        "outputId": "e3ee8590-4486-4f44-8c35-f4f09aa6d700",
        "colab": {
          "base_uri": "https://localhost:8080/",
          "height": 266
        }
      },
      "source": [
        "df_test.isnull().sum()"
      ],
      "execution_count": 6,
      "outputs": [
        {
          "output_type": "execute_result",
          "data": {
            "text/plain": [
              "Loan_ID               0\n",
              "Gender               11\n",
              "Married               0\n",
              "Dependents           10\n",
              "Education             0\n",
              "Self_Employed        23\n",
              "ApplicantIncome       0\n",
              "CoapplicantIncome     0\n",
              "LoanAmount            5\n",
              "Loan_Amount_Term      6\n",
              "Credit_History       29\n",
              "Property_Area         0\n",
              "Loan_Status           0\n",
              "dtype: int64"
            ]
          },
          "metadata": {
            "tags": []
          },
          "execution_count": 6
        }
      ]
    },
    {
      "cell_type": "code",
      "metadata": {
        "id": "CB9RbfLAuZxF",
        "colab_type": "code",
        "outputId": "d24d5497-bd80-493f-b757-d4c35d2cdeb2",
        "colab": {
          "base_uri": "https://localhost:8080/",
          "height": 372
        }
      },
      "source": [
        "df_train.info()"
      ],
      "execution_count": 7,
      "outputs": [
        {
          "output_type": "stream",
          "text": [
            "<class 'pandas.core.frame.DataFrame'>\n",
            "RangeIndex: 614 entries, 0 to 613\n",
            "Data columns (total 13 columns):\n",
            " #   Column             Non-Null Count  Dtype  \n",
            "---  ------             --------------  -----  \n",
            " 0   Loan_ID            614 non-null    object \n",
            " 1   Gender             601 non-null    object \n",
            " 2   Married            611 non-null    object \n",
            " 3   Dependents         599 non-null    object \n",
            " 4   Education          614 non-null    object \n",
            " 5   Self_Employed      582 non-null    object \n",
            " 6   ApplicantIncome    614 non-null    int64  \n",
            " 7   CoapplicantIncome  614 non-null    float64\n",
            " 8   LoanAmount         592 non-null    float64\n",
            " 9   Loan_Amount_Term   600 non-null    float64\n",
            " 10  Credit_History     564 non-null    float64\n",
            " 11  Property_Area      614 non-null    object \n",
            " 12  Loan_Status        614 non-null    object \n",
            "dtypes: float64(4), int64(1), object(8)\n",
            "memory usage: 62.5+ KB\n"
          ],
          "name": "stdout"
        }
      ]
    },
    {
      "cell_type": "code",
      "metadata": {
        "id": "F3rNfmtOyDRX",
        "colab_type": "code",
        "outputId": "6b856896-0565-4459-ef36-66b1d06dd891",
        "colab": {
          "base_uri": "https://localhost:8080/",
          "height": 372
        }
      },
      "source": [
        "df_test.info()"
      ],
      "execution_count": 8,
      "outputs": [
        {
          "output_type": "stream",
          "text": [
            "<class 'pandas.core.frame.DataFrame'>\n",
            "RangeIndex: 367 entries, 0 to 366\n",
            "Data columns (total 13 columns):\n",
            " #   Column             Non-Null Count  Dtype  \n",
            "---  ------             --------------  -----  \n",
            " 0   Loan_ID            367 non-null    object \n",
            " 1   Gender             356 non-null    object \n",
            " 2   Married            367 non-null    object \n",
            " 3   Dependents         357 non-null    object \n",
            " 4   Education          367 non-null    object \n",
            " 5   Self_Employed      344 non-null    object \n",
            " 6   ApplicantIncome    367 non-null    int64  \n",
            " 7   CoapplicantIncome  367 non-null    int64  \n",
            " 8   LoanAmount         362 non-null    float64\n",
            " 9   Loan_Amount_Term   361 non-null    float64\n",
            " 10  Credit_History     338 non-null    float64\n",
            " 11  Property_Area      367 non-null    object \n",
            " 12  Loan_Status        367 non-null    object \n",
            "dtypes: float64(3), int64(2), object(8)\n",
            "memory usage: 37.4+ KB\n"
          ],
          "name": "stdout"
        }
      ]
    },
    {
      "cell_type": "code",
      "metadata": {
        "id": "TXGC2afLvzUC",
        "colab_type": "code",
        "outputId": "2ee7d178-63c3-4c0a-ae01-1a4fafb6337f",
        "colab": {
          "base_uri": "https://localhost:8080/",
          "height": 945
        }
      },
      "source": [
        "sns.pairplot(df_train,hue='Loan_Status')"
      ],
      "execution_count": 9,
      "outputs": [
        {
          "output_type": "execute_result",
          "data": {
            "text/plain": [
              "<seaborn.axisgrid.PairGrid at 0x7fddcf3146a0>"
            ]
          },
          "metadata": {
            "tags": []
          },
          "execution_count": 9
        },
        {
          "output_type": "display_data",
          "data": {
            "image/png": "[encoded data removed]",
            "text/plain": [
              "<Figure size 968.625x900 with 30 Axes>"
            ]
          },
          "metadata": {
            "tags": [],
            "needs_background": "light"
          }
        }
      ]
    },
    {
      "cell_type": "markdown",
      "metadata": {
        "id": "iFad8Ft3yMHk",
        "colab_type": "text"
      },
      "source": [
        "### **Encoding the dataset with the help of Label Encoder**"
      ]
    },
    {
      "cell_type": "code",
      "metadata": {
        "id": "lD7-WQ6VxMor",
        "colab_type": "code",
        "outputId": "a21384ad-e5ba-4e29-d75f-14cb794b99bd",
        "colab": {
          "base_uri": "https://localhost:8080/",
          "height": 266
        }
      },
      "source": [
        "df_train_replace=df_train.select_dtypes(include=['object']).copy()\n",
        "df_test_replace=df_test.select_dtypes(include=['object']).copy()\n",
        "df_train_replace.drop(columns=['Loan_ID'],inplace=True)\n",
        "df_test_replace.drop(columns=['Loan_ID'],inplace=True)\n",
        "df_test_replace.info()\n"
      ],
      "execution_count": 10,
      "outputs": [
        {
          "output_type": "stream",
          "text": [
            "<class 'pandas.core.frame.DataFrame'>\n",
            "RangeIndex: 367 entries, 0 to 366\n",
            "Data columns (total 7 columns):\n",
            " #   Column         Non-Null Count  Dtype \n",
            "---  ------         --------------  ----- \n",
            " 0   Gender         356 non-null    object\n",
            " 1   Married        367 non-null    object\n",
            " 2   Dependents     357 non-null    object\n",
            " 3   Education      367 non-null    object\n",
            " 4   Self_Employed  344 non-null    object\n",
            " 5   Property_Area  367 non-null    object\n",
            " 6   Loan_Status    367 non-null    object\n",
            "dtypes: object(7)\n",
            "memory usage: 20.2+ KB\n"
          ],
          "name": "stdout"
        }
      ]
    },
    {
      "cell_type": "code",
      "metadata": {
        "id": "6ldLGmrPvkfb",
        "colab_type": "code",
        "colab": {}
      },
      "source": [
        "#Filled the empty cells with string 'z'\n",
        "df_train_replace.replace(r'^\\s*$','z',regex=True,inplace=True)\n",
        "df_test_replace.replace(r'^\\s*$','z',regex=True,inplace=True)\n"
      ],
      "execution_count": 0,
      "outputs": []
    },
    {
      "cell_type": "code",
      "metadata": {
        "id": "TXL2d8PQvrWi",
        "colab_type": "code",
        "outputId": "e6fe04a3-79d6-4909-882a-df4ab7d0799c",
        "colab": {
          "base_uri": "https://localhost:8080/",
          "height": 301
        }
      },
      "source": [
        "from sklearn.preprocessing import LabelEncoder\n",
        "le=LabelEncoder()\n",
        "\n",
        "df1 = df_train_replace.apply(lambda col: le.fit_transform(col.astype(str)), axis=0, result_type='expand')\n",
        "print(df1.head(5))\n",
        "df2 = df_test_replace.apply(lambda col: le.fit_transform(col.astype(str)), axis=0, result_type='expand')\n",
        "print(df2.head(5))\n"
      ],
      "execution_count": 12,
      "outputs": [
        {
          "output_type": "stream",
          "text": [
            "   Gender  Married  Dependents  ...  Self_Employed  Property_Area  Loan_Status\n",
            "0       1        0           0  ...              0              2            1\n",
            "1       1        1           1  ...              0              0            0\n",
            "2       1        1           0  ...              1              2            1\n",
            "3       1        1           0  ...              0              2            1\n",
            "4       1        0           0  ...              0              2            1\n",
            "\n",
            "[5 rows x 7 columns]\n",
            "   Gender  Married  Dependents  ...  Self_Employed  Property_Area  Loan_Status\n",
            "0       1        1           0  ...              0              2            1\n",
            "1       1        1           1  ...              0              2            1\n",
            "2       1        1           2  ...              0              2            1\n",
            "3       1        1           2  ...              0              2            1\n",
            "4       1        0           0  ...              0              2            1\n",
            "\n",
            "[5 rows x 7 columns]\n"
          ],
          "name": "stdout"
        }
      ]
    },
    {
      "cell_type": "code",
      "metadata": {
        "id": "s7eD291GYHg6",
        "colab_type": "code",
        "outputId": "52f08abd-1380-4c6a-81bb-3947153651a4",
        "colab": {
          "base_uri": "https://localhost:8080/",
          "height": 1000
        }
      },
      "source": [
        "df_train = df_train.assign(Gender=df1['Gender'],Married=df1['Married'],Education=df1['Education'],\n",
        "                           Self_Employed=df1['Self_Employed'],Property_Area=df1['Property_Area'],\n",
        "                           Dependents=df1['Dependents'],Loan_Status=df1['Loan_Status'])\n",
        "df_test = df_test.assign(Gender=df2['Gender'],Married=df2['Married'],Education=df2['Education'],\n",
        "                           Self_Employed=df2['Self_Employed'],Property_Area=df2['Property_Area'],\n",
        "                           Dependents=df2['Dependents'],Loan_Status=df2['Loan_Status'])\n",
        "print(df_train.head(20))\n",
        "df_test.head(20)"
      ],
      "execution_count": 13,
      "outputs": [
        {
          "output_type": "stream",
          "text": [
            "     Loan_ID  Gender  Married  ...  Credit_History  Property_Area  Loan_Status\n",
            "0   LP001002       1        0  ...             1.0              2            1\n",
            "1   LP001003       1        1  ...             1.0              0            0\n",
            "2   LP001005       1        1  ...             1.0              2            1\n",
            "3   LP001006       1        1  ...             1.0              2            1\n",
            "4   LP001008       1        0  ...             1.0              2            1\n",
            "5   LP001011       1        1  ...             1.0              2            1\n",
            "6   LP001013       1        1  ...             1.0              2            1\n",
            "7   LP001014       1        1  ...             0.0              1            0\n",
            "8   LP001018       1        1  ...             1.0              2            1\n",
            "9   LP001020       1        1  ...             1.0              1            0\n",
            "10  LP001024       1        1  ...             1.0              2            1\n",
            "11  LP001027       1        1  ...             1.0              2            1\n",
            "12  LP001028       1        1  ...             1.0              2            1\n",
            "13  LP001029       1        0  ...             1.0              0            0\n",
            "14  LP001030       1        1  ...             1.0              2            1\n",
            "15  LP001032       1        0  ...             1.0              2            1\n",
            "16  LP001034       1        0  ...             NaN              2            1\n",
            "17  LP001036       0        0  ...             0.0              2            0\n",
            "18  LP001038       1        1  ...             1.0              0            0\n",
            "19  LP001041       1        1  ...             1.0              2            1\n",
            "\n",
            "[20 rows x 13 columns]\n"
          ],
          "name": "stdout"
        },
        {
          "output_type": "execute_result",
          "data": {
            "text/html": [
              "<div>\n",
              "<style scoped>\n",
              "    .dataframe tbody tr th:only-of-type {\n",
              "        vertical-align: middle;\n",
              "    }\n",
              "\n",
              "    .dataframe tbody tr th {\n",
              "        vertical-align: top;\n",
              "    }\n",
              "\n",
              "    .dataframe thead th {\n",
              "        text-align: right;\n",
              "    }\n",
              "</style>\n",
              "<table border=\"1\" class=\"dataframe\">\n",
              "  <thead>\n",
              "    <tr style=\"text-align: right;\">\n",
              "      <th></th>\n",
              "      <th>Loan_ID</th>\n",
              "      <th>Gender</th>\n",
              "      <th>Married</th>\n",
              "      <th>Dependents</th>\n",
              "      <th>Education</th>\n",
              "      <th>Self_Employed</th>\n",
              "      <th>ApplicantIncome</th>\n",
              "      <th>CoapplicantIncome</th>\n",
              "      <th>LoanAmount</th>\n",
              "      <th>Loan_Amount_Term</th>\n",
              "      <th>Credit_History</th>\n",
              "      <th>Property_Area</th>\n",
              "      <th>Loan_Status</th>\n",
              "    </tr>\n",
              "  </thead>\n",
              "  <tbody>\n",
              "    <tr>\n",
              "      <th>0</th>\n",
              "      <td>LP001015</td>\n",
              "      <td>1</td>\n",
              "      <td>1</td>\n",
              "      <td>0</td>\n",
              "      <td>0</td>\n",
              "      <td>0</td>\n",
              "      <td>5720</td>\n",
              "      <td>0</td>\n",
              "      <td>110.0</td>\n",
              "      <td>360.0</td>\n",
              "      <td>1.0</td>\n",
              "      <td>2</td>\n",
              "      <td>1</td>\n",
              "    </tr>\n",
              "    <tr>\n",
              "      <th>1</th>\n",
              "      <td>LP001022</td>\n",
              "      <td>1</td>\n",
              "      <td>1</td>\n",
              "      <td>1</td>\n",
              "      <td>0</td>\n",
              "      <td>0</td>\n",
              "      <td>3076</td>\n",
              "      <td>1500</td>\n",
              "      <td>126.0</td>\n",
              "      <td>360.0</td>\n",
              "      <td>1.0</td>\n",
              "      <td>2</td>\n",
              "      <td>1</td>\n",
              "    </tr>\n",
              "    <tr>\n",
              "      <th>2</th>\n",
              "      <td>LP001031</td>\n",
              "      <td>1</td>\n",
              "      <td>1</td>\n",
              "      <td>2</td>\n",
              "      <td>0</td>\n",
              "      <td>0</td>\n",
              "      <td>5000</td>\n",
              "      <td>1800</td>\n",
              "      <td>208.0</td>\n",
              "      <td>360.0</td>\n",
              "      <td>1.0</td>\n",
              "      <td>2</td>\n",
              "      <td>1</td>\n",
              "    </tr>\n",
              "    <tr>\n",
              "      <th>3</th>\n",
              "      <td>LP001035</td>\n",
              "      <td>1</td>\n",
              "      <td>1</td>\n",
              "      <td>2</td>\n",
              "      <td>0</td>\n",
              "      <td>0</td>\n",
              "      <td>2340</td>\n",
              "      <td>2546</td>\n",
              "      <td>100.0</td>\n",
              "      <td>360.0</td>\n",
              "      <td>NaN</td>\n",
              "      <td>2</td>\n",
              "      <td>1</td>\n",
              "    </tr>\n",
              "    <tr>\n",
              "      <th>4</th>\n",
              "      <td>LP001051</td>\n",
              "      <td>1</td>\n",
              "      <td>0</td>\n",
              "      <td>0</td>\n",
              "      <td>1</td>\n",
              "      <td>0</td>\n",
              "      <td>3276</td>\n",
              "      <td>0</td>\n",
              "      <td>78.0</td>\n",
              "      <td>360.0</td>\n",
              "      <td>1.0</td>\n",
              "      <td>2</td>\n",
              "      <td>1</td>\n",
              "    </tr>\n",
              "    <tr>\n",
              "      <th>5</th>\n",
              "      <td>LP001054</td>\n",
              "      <td>1</td>\n",
              "      <td>1</td>\n",
              "      <td>0</td>\n",
              "      <td>1</td>\n",
              "      <td>1</td>\n",
              "      <td>2165</td>\n",
              "      <td>3422</td>\n",
              "      <td>152.0</td>\n",
              "      <td>360.0</td>\n",
              "      <td>1.0</td>\n",
              "      <td>2</td>\n",
              "      <td>1</td>\n",
              "    </tr>\n",
              "    <tr>\n",
              "      <th>6</th>\n",
              "      <td>LP001055</td>\n",
              "      <td>0</td>\n",
              "      <td>0</td>\n",
              "      <td>1</td>\n",
              "      <td>1</td>\n",
              "      <td>0</td>\n",
              "      <td>2226</td>\n",
              "      <td>0</td>\n",
              "      <td>59.0</td>\n",
              "      <td>360.0</td>\n",
              "      <td>1.0</td>\n",
              "      <td>1</td>\n",
              "      <td>1</td>\n",
              "    </tr>\n",
              "    <tr>\n",
              "      <th>7</th>\n",
              "      <td>LP001056</td>\n",
              "      <td>1</td>\n",
              "      <td>1</td>\n",
              "      <td>2</td>\n",
              "      <td>1</td>\n",
              "      <td>0</td>\n",
              "      <td>3881</td>\n",
              "      <td>0</td>\n",
              "      <td>147.0</td>\n",
              "      <td>360.0</td>\n",
              "      <td>0.0</td>\n",
              "      <td>0</td>\n",
              "      <td>0</td>\n",
              "    </tr>\n",
              "    <tr>\n",
              "      <th>8</th>\n",
              "      <td>LP001059</td>\n",
              "      <td>1</td>\n",
              "      <td>1</td>\n",
              "      <td>2</td>\n",
              "      <td>0</td>\n",
              "      <td>2</td>\n",
              "      <td>13633</td>\n",
              "      <td>0</td>\n",
              "      <td>280.0</td>\n",
              "      <td>240.0</td>\n",
              "      <td>1.0</td>\n",
              "      <td>2</td>\n",
              "      <td>1</td>\n",
              "    </tr>\n",
              "    <tr>\n",
              "      <th>9</th>\n",
              "      <td>LP001067</td>\n",
              "      <td>1</td>\n",
              "      <td>0</td>\n",
              "      <td>0</td>\n",
              "      <td>1</td>\n",
              "      <td>0</td>\n",
              "      <td>2400</td>\n",
              "      <td>2400</td>\n",
              "      <td>123.0</td>\n",
              "      <td>360.0</td>\n",
              "      <td>1.0</td>\n",
              "      <td>1</td>\n",
              "      <td>1</td>\n",
              "    </tr>\n",
              "    <tr>\n",
              "      <th>10</th>\n",
              "      <td>LP001078</td>\n",
              "      <td>1</td>\n",
              "      <td>0</td>\n",
              "      <td>0</td>\n",
              "      <td>1</td>\n",
              "      <td>0</td>\n",
              "      <td>3091</td>\n",
              "      <td>0</td>\n",
              "      <td>90.0</td>\n",
              "      <td>360.0</td>\n",
              "      <td>1.0</td>\n",
              "      <td>2</td>\n",
              "      <td>1</td>\n",
              "    </tr>\n",
              "    <tr>\n",
              "      <th>11</th>\n",
              "      <td>LP001082</td>\n",
              "      <td>1</td>\n",
              "      <td>1</td>\n",
              "      <td>1</td>\n",
              "      <td>0</td>\n",
              "      <td>2</td>\n",
              "      <td>2185</td>\n",
              "      <td>1516</td>\n",
              "      <td>162.0</td>\n",
              "      <td>360.0</td>\n",
              "      <td>1.0</td>\n",
              "      <td>1</td>\n",
              "      <td>1</td>\n",
              "    </tr>\n",
              "    <tr>\n",
              "      <th>12</th>\n",
              "      <td>LP001083</td>\n",
              "      <td>1</td>\n",
              "      <td>0</td>\n",
              "      <td>3</td>\n",
              "      <td>0</td>\n",
              "      <td>0</td>\n",
              "      <td>4166</td>\n",
              "      <td>0</td>\n",
              "      <td>40.0</td>\n",
              "      <td>180.0</td>\n",
              "      <td>NaN</td>\n",
              "      <td>2</td>\n",
              "      <td>1</td>\n",
              "    </tr>\n",
              "    <tr>\n",
              "      <th>13</th>\n",
              "      <td>LP001094</td>\n",
              "      <td>1</td>\n",
              "      <td>1</td>\n",
              "      <td>2</td>\n",
              "      <td>0</td>\n",
              "      <td>2</td>\n",
              "      <td>12173</td>\n",
              "      <td>0</td>\n",
              "      <td>166.0</td>\n",
              "      <td>360.0</td>\n",
              "      <td>0.0</td>\n",
              "      <td>1</td>\n",
              "      <td>0</td>\n",
              "    </tr>\n",
              "    <tr>\n",
              "      <th>14</th>\n",
              "      <td>LP001096</td>\n",
              "      <td>0</td>\n",
              "      <td>0</td>\n",
              "      <td>0</td>\n",
              "      <td>0</td>\n",
              "      <td>0</td>\n",
              "      <td>4666</td>\n",
              "      <td>0</td>\n",
              "      <td>124.0</td>\n",
              "      <td>360.0</td>\n",
              "      <td>1.0</td>\n",
              "      <td>1</td>\n",
              "      <td>1</td>\n",
              "    </tr>\n",
              "    <tr>\n",
              "      <th>15</th>\n",
              "      <td>LP001099</td>\n",
              "      <td>1</td>\n",
              "      <td>0</td>\n",
              "      <td>1</td>\n",
              "      <td>0</td>\n",
              "      <td>0</td>\n",
              "      <td>5667</td>\n",
              "      <td>0</td>\n",
              "      <td>131.0</td>\n",
              "      <td>360.0</td>\n",
              "      <td>1.0</td>\n",
              "      <td>2</td>\n",
              "      <td>1</td>\n",
              "    </tr>\n",
              "    <tr>\n",
              "      <th>16</th>\n",
              "      <td>LP001105</td>\n",
              "      <td>1</td>\n",
              "      <td>1</td>\n",
              "      <td>2</td>\n",
              "      <td>0</td>\n",
              "      <td>0</td>\n",
              "      <td>4583</td>\n",
              "      <td>2916</td>\n",
              "      <td>200.0</td>\n",
              "      <td>360.0</td>\n",
              "      <td>1.0</td>\n",
              "      <td>2</td>\n",
              "      <td>1</td>\n",
              "    </tr>\n",
              "    <tr>\n",
              "      <th>17</th>\n",
              "      <td>LP001107</td>\n",
              "      <td>1</td>\n",
              "      <td>1</td>\n",
              "      <td>3</td>\n",
              "      <td>0</td>\n",
              "      <td>0</td>\n",
              "      <td>3786</td>\n",
              "      <td>333</td>\n",
              "      <td>126.0</td>\n",
              "      <td>360.0</td>\n",
              "      <td>1.0</td>\n",
              "      <td>1</td>\n",
              "      <td>1</td>\n",
              "    </tr>\n",
              "    <tr>\n",
              "      <th>18</th>\n",
              "      <td>LP001108</td>\n",
              "      <td>1</td>\n",
              "      <td>1</td>\n",
              "      <td>0</td>\n",
              "      <td>0</td>\n",
              "      <td>0</td>\n",
              "      <td>9226</td>\n",
              "      <td>7916</td>\n",
              "      <td>300.0</td>\n",
              "      <td>360.0</td>\n",
              "      <td>1.0</td>\n",
              "      <td>2</td>\n",
              "      <td>1</td>\n",
              "    </tr>\n",
              "    <tr>\n",
              "      <th>19</th>\n",
              "      <td>LP001115</td>\n",
              "      <td>1</td>\n",
              "      <td>0</td>\n",
              "      <td>0</td>\n",
              "      <td>0</td>\n",
              "      <td>0</td>\n",
              "      <td>1300</td>\n",
              "      <td>3470</td>\n",
              "      <td>100.0</td>\n",
              "      <td>180.0</td>\n",
              "      <td>1.0</td>\n",
              "      <td>1</td>\n",
              "      <td>1</td>\n",
              "    </tr>\n",
              "  </tbody>\n",
              "</table>\n",
              "</div>"
            ],
            "text/plain": [
              "     Loan_ID  Gender  Married  ...  Credit_History  Property_Area  Loan_Status\n",
              "0   LP001015       1        1  ...             1.0              2            1\n",
              "1   LP001022       1        1  ...             1.0              2            1\n",
              "2   LP001031       1        1  ...             1.0              2            1\n",
              "3   LP001035       1        1  ...             NaN              2            1\n",
              "4   LP001051       1        0  ...             1.0              2            1\n",
              "5   LP001054       1        1  ...             1.0              2            1\n",
              "6   LP001055       0        0  ...             1.0              1            1\n",
              "7   LP001056       1        1  ...             0.0              0            0\n",
              "8   LP001059       1        1  ...             1.0              2            1\n",
              "9   LP001067       1        0  ...             1.0              1            1\n",
              "10  LP001078       1        0  ...             1.0              2            1\n",
              "11  LP001082       1        1  ...             1.0              1            1\n",
              "12  LP001083       1        0  ...             NaN              2            1\n",
              "13  LP001094       1        1  ...             0.0              1            0\n",
              "14  LP001096       0        0  ...             1.0              1            1\n",
              "15  LP001099       1        0  ...             1.0              2            1\n",
              "16  LP001105       1        1  ...             1.0              2            1\n",
              "17  LP001107       1        1  ...             1.0              1            1\n",
              "18  LP001108       1        1  ...             1.0              2            1\n",
              "19  LP001115       1        0  ...             1.0              1            1\n",
              "\n",
              "[20 rows x 13 columns]"
            ]
          },
          "metadata": {
            "tags": []
          },
          "execution_count": 13
        }
      ]
    },
    {
      "cell_type": "code",
      "metadata": {
        "id": "gnojVUNaluQU",
        "colab_type": "code",
        "outputId": "5c1c2ae5-745d-44bd-9cf5-a575bf333168",
        "colab": {
          "base_uri": "https://localhost:8080/",
          "height": 515
        }
      },
      "source": [
        "print(df_train.isnull().sum())\n",
        "df_test.isnull().sum()"
      ],
      "execution_count": 14,
      "outputs": [
        {
          "output_type": "stream",
          "text": [
            "Loan_ID               0\n",
            "Gender                0\n",
            "Married               0\n",
            "Dependents            0\n",
            "Education             0\n",
            "Self_Employed         0\n",
            "ApplicantIncome       0\n",
            "CoapplicantIncome     0\n",
            "LoanAmount           22\n",
            "Loan_Amount_Term     14\n",
            "Credit_History       50\n",
            "Property_Area         0\n",
            "Loan_Status           0\n",
            "dtype: int64\n"
          ],
          "name": "stdout"
        },
        {
          "output_type": "execute_result",
          "data": {
            "text/plain": [
              "Loan_ID               0\n",
              "Gender                0\n",
              "Married               0\n",
              "Dependents            0\n",
              "Education             0\n",
              "Self_Employed         0\n",
              "ApplicantIncome       0\n",
              "CoapplicantIncome     0\n",
              "LoanAmount            5\n",
              "Loan_Amount_Term      6\n",
              "Credit_History       29\n",
              "Property_Area         0\n",
              "Loan_Status           0\n",
              "dtype: int64"
            ]
          },
          "metadata": {
            "tags": []
          },
          "execution_count": 14
        }
      ]
    },
    {
      "cell_type": "markdown",
      "metadata": {
        "id": "NGvC3_hmywJF",
        "colab_type": "text"
      },
      "source": [
        "### **Handling the Missing Data with the help of KNN Imputer**"
      ]
    },
    {
      "cell_type": "code",
      "metadata": {
        "id": "uO5C7yVxJjST",
        "colab_type": "code",
        "outputId": "25d12f70-ae6a-4424-9e4d-bce33c95727a",
        "colab": {
          "base_uri": "https://localhost:8080/",
          "height": 300
        }
      },
      "source": [
        "df_train_knn=df_train.iloc[:,8:11].copy()\n",
        "df_test_knn=df_test.iloc[:,8:11].copy()\n",
        "print(df_test_knn.head(5))\n",
        "df_train_knn.head(5)\n"
      ],
      "execution_count": 15,
      "outputs": [
        {
          "output_type": "stream",
          "text": [
            "   LoanAmount  Loan_Amount_Term  Credit_History\n",
            "0       110.0             360.0             1.0\n",
            "1       126.0             360.0             1.0\n",
            "2       208.0             360.0             1.0\n",
            "3       100.0             360.0             NaN\n",
            "4        78.0             360.0             1.0\n"
          ],
          "name": "stdout"
        },
        {
          "output_type": "execute_result",
          "data": {
            "text/html": [
              "<div>\n",
              "<style scoped>\n",
              "    .dataframe tbody tr th:only-of-type {\n",
              "        vertical-align: middle;\n",
              "    }\n",
              "\n",
              "    .dataframe tbody tr th {\n",
              "        vertical-align: top;\n",
              "    }\n",
              "\n",
              "    .dataframe thead th {\n",
              "        text-align: right;\n",
              "    }\n",
              "</style>\n",
              "<table border=\"1\" class=\"dataframe\">\n",
              "  <thead>\n",
              "    <tr style=\"text-align: right;\">\n",
              "      <th></th>\n",
              "      <th>LoanAmount</th>\n",
              "      <th>Loan_Amount_Term</th>\n",
              "      <th>Credit_History</th>\n",
              "    </tr>\n",
              "  </thead>\n",
              "  <tbody>\n",
              "    <tr>\n",
              "      <th>0</th>\n",
              "      <td>NaN</td>\n",
              "      <td>360.0</td>\n",
              "      <td>1.0</td>\n",
              "    </tr>\n",
              "    <tr>\n",
              "      <th>1</th>\n",
              "      <td>128.0</td>\n",
              "      <td>360.0</td>\n",
              "      <td>1.0</td>\n",
              "    </tr>\n",
              "    <tr>\n",
              "      <th>2</th>\n",
              "      <td>66.0</td>\n",
              "      <td>360.0</td>\n",
              "      <td>1.0</td>\n",
              "    </tr>\n",
              "    <tr>\n",
              "      <th>3</th>\n",
              "      <td>120.0</td>\n",
              "      <td>360.0</td>\n",
              "      <td>1.0</td>\n",
              "    </tr>\n",
              "    <tr>\n",
              "      <th>4</th>\n",
              "      <td>141.0</td>\n",
              "      <td>360.0</td>\n",
              "      <td>1.0</td>\n",
              "    </tr>\n",
              "  </tbody>\n",
              "</table>\n",
              "</div>"
            ],
            "text/plain": [
              "   LoanAmount  Loan_Amount_Term  Credit_History\n",
              "0         NaN             360.0             1.0\n",
              "1       128.0             360.0             1.0\n",
              "2        66.0             360.0             1.0\n",
              "3       120.0             360.0             1.0\n",
              "4       141.0             360.0             1.0"
            ]
          },
          "metadata": {
            "tags": []
          },
          "execution_count": 15
        }
      ]
    },
    {
      "cell_type": "code",
      "metadata": {
        "id": "-IDicTb4Z809",
        "colab_type": "code",
        "outputId": "12a12880-d610-44e2-e71e-9db536152c08",
        "colab": {
          "base_uri": "https://localhost:8080/",
          "height": 88
        }
      },
      "source": [
        "imputer = KNNImputer(n_neighbors=5)\n",
        "arr1=imputer.fit_transform(df_train_knn)\n",
        "arr2=imputer.fit_transform(df_test_knn)\n",
        "df_train_knn = pd.DataFrame.from_records(arr1,columns=['LoanAmount','Loan_Amount_Term','Credit_History'])\n",
        "df_test_knn = pd.DataFrame.from_records(arr2,columns=['LoanAmount','Loan_Amount_Term','Credit_History'])\n",
        "# print(df_train_knn_imputation.head(30))\n",
        "df_train_knn.isnull().sum()"
      ],
      "execution_count": 16,
      "outputs": [
        {
          "output_type": "execute_result",
          "data": {
            "text/plain": [
              "LoanAmount          0\n",
              "Loan_Amount_Term    0\n",
              "Credit_History      0\n",
              "dtype: int64"
            ]
          },
          "metadata": {
            "tags": []
          },
          "execution_count": 16
        }
      ]
    },
    {
      "cell_type": "code",
      "metadata": {
        "id": "fOHrphHRUUQb",
        "colab_type": "code",
        "outputId": "58f00b01-94e0-4c5c-8e16-eab9cbd1f9eb",
        "colab": {
          "base_uri": "https://localhost:8080/",
          "height": 266
        }
      },
      "source": [
        "df_train=df_train.assign(LoanAmount=df_train_knn['LoanAmount'],Loan_Amount_Term=df_train_knn['Loan_Amount_Term'],Credit_History=df_train_knn['Credit_History'])\n",
        "df_test=df_test.assign(LoanAmount=df_test_knn['LoanAmount'],Loan_Amount_Term=df_test_knn['Loan_Amount_Term'],Credit_History=df_test_knn['Credit_History'])\n",
        "df_test.isnull().sum()"
      ],
      "execution_count": 17,
      "outputs": [
        {
          "output_type": "execute_result",
          "data": {
            "text/plain": [
              "Loan_ID              0\n",
              "Gender               0\n",
              "Married              0\n",
              "Dependents           0\n",
              "Education            0\n",
              "Self_Employed        0\n",
              "ApplicantIncome      0\n",
              "CoapplicantIncome    0\n",
              "LoanAmount           0\n",
              "Loan_Amount_Term     0\n",
              "Credit_History       0\n",
              "Property_Area        0\n",
              "Loan_Status          0\n",
              "dtype: int64"
            ]
          },
          "metadata": {
            "tags": []
          },
          "execution_count": 17
        }
      ]
    },
    {
      "cell_type": "code",
      "metadata": {
        "id": "4zQWqGigKrDX",
        "colab_type": "code",
        "outputId": "42df55bb-7469-4976-ed41-aef3ba10eb92",
        "colab": {
          "base_uri": "https://localhost:8080/",
          "height": 266
        }
      },
      "source": [
        "df_train.isnull().sum()"
      ],
      "execution_count": 18,
      "outputs": [
        {
          "output_type": "execute_result",
          "data": {
            "text/plain": [
              "Loan_ID              0\n",
              "Gender               0\n",
              "Married              0\n",
              "Dependents           0\n",
              "Education            0\n",
              "Self_Employed        0\n",
              "ApplicantIncome      0\n",
              "CoapplicantIncome    0\n",
              "LoanAmount           0\n",
              "Loan_Amount_Term     0\n",
              "Credit_History       0\n",
              "Property_Area        0\n",
              "Loan_Status          0\n",
              "dtype: int64"
            ]
          },
          "metadata": {
            "tags": []
          },
          "execution_count": 18
        }
      ]
    },
    {
      "cell_type": "code",
      "metadata": {
        "id": "H9zIAkqeKykw",
        "colab_type": "code",
        "outputId": "9f9486f9-6891-4104-915d-57327017d119",
        "colab": {
          "base_uri": "https://localhost:8080/",
          "height": 399
        }
      },
      "source": [
        "df_train.corr()"
      ],
      "execution_count": 19,
      "outputs": [
        {
          "output_type": "execute_result",
          "data": {
            "text/html": [
              "<div>\n",
              "<style scoped>\n",
              "    .dataframe tbody tr th:only-of-type {\n",
              "        vertical-align: middle;\n",
              "    }\n",
              "\n",
              "    .dataframe tbody tr th {\n",
              "        vertical-align: top;\n",
              "    }\n",
              "\n",
              "    .dataframe thead th {\n",
              "        text-align: right;\n",
              "    }\n",
              "</style>\n",
              "<table border=\"1\" class=\"dataframe\">\n",
              "  <thead>\n",
              "    <tr style=\"text-align: right;\">\n",
              "      <th></th>\n",
              "      <th>Gender</th>\n",
              "      <th>Married</th>\n",
              "      <th>Dependents</th>\n",
              "      <th>Education</th>\n",
              "      <th>Self_Employed</th>\n",
              "      <th>ApplicantIncome</th>\n",
              "      <th>CoapplicantIncome</th>\n",
              "      <th>LoanAmount</th>\n",
              "      <th>Loan_Amount_Term</th>\n",
              "      <th>Credit_History</th>\n",
              "      <th>Property_Area</th>\n",
              "      <th>Loan_Status</th>\n",
              "    </tr>\n",
              "  </thead>\n",
              "  <tbody>\n",
              "    <tr>\n",
              "      <th>Gender</th>\n",
              "      <td>1.000000</td>\n",
              "      <td>0.336094</td>\n",
              "      <td>0.149674</td>\n",
              "      <td>0.024382</td>\n",
              "      <td>-0.025022</td>\n",
              "      <td>0.094472</td>\n",
              "      <td>0.073308</td>\n",
              "      <td>0.138457</td>\n",
              "      <td>-0.068678</td>\n",
              "      <td>0.002307</td>\n",
              "      <td>-0.030903</td>\n",
              "      <td>0.008690</td>\n",
              "    </tr>\n",
              "    <tr>\n",
              "      <th>Married</th>\n",
              "      <td>0.336094</td>\n",
              "      <td>1.000000</td>\n",
              "      <td>0.338689</td>\n",
              "      <td>0.006759</td>\n",
              "      <td>-0.038153</td>\n",
              "      <td>0.052119</td>\n",
              "      <td>0.069877</td>\n",
              "      <td>0.143059</td>\n",
              "      <td>-0.096887</td>\n",
              "      <td>0.000580</td>\n",
              "      <td>0.007973</td>\n",
              "      <td>0.096657</td>\n",
              "    </tr>\n",
              "    <tr>\n",
              "      <th>Dependents</th>\n",
              "      <td>0.149674</td>\n",
              "      <td>0.338689</td>\n",
              "      <td>1.000000</td>\n",
              "      <td>0.060466</td>\n",
              "      <td>0.005622</td>\n",
              "      <td>0.103416</td>\n",
              "      <td>0.011146</td>\n",
              "      <td>0.127116</td>\n",
              "      <td>-0.074655</td>\n",
              "      <td>-0.072424</td>\n",
              "      <td>0.032600</td>\n",
              "      <td>-0.007318</td>\n",
              "    </tr>\n",
              "    <tr>\n",
              "      <th>Education</th>\n",
              "      <td>0.024382</td>\n",
              "      <td>0.006759</td>\n",
              "      <td>0.060466</td>\n",
              "      <td>1.000000</td>\n",
              "      <td>-0.021130</td>\n",
              "      <td>-0.140760</td>\n",
              "      <td>-0.062290</td>\n",
              "      <td>-0.168439</td>\n",
              "      <td>-0.076594</td>\n",
              "      <td>-0.089908</td>\n",
              "      <td>-0.065243</td>\n",
              "      <td>-0.085884</td>\n",
              "    </tr>\n",
              "    <tr>\n",
              "      <th>Self_Employed</th>\n",
              "      <td>-0.025022</td>\n",
              "      <td>-0.038153</td>\n",
              "      <td>0.005622</td>\n",
              "      <td>-0.021130</td>\n",
              "      <td>1.000000</td>\n",
              "      <td>0.095664</td>\n",
              "      <td>0.052218</td>\n",
              "      <td>0.087111</td>\n",
              "      <td>-0.037633</td>\n",
              "      <td>0.071095</td>\n",
              "      <td>-0.013439</td>\n",
              "      <td>0.010880</td>\n",
              "    </tr>\n",
              "    <tr>\n",
              "      <th>ApplicantIncome</th>\n",
              "      <td>0.094472</td>\n",
              "      <td>0.052119</td>\n",
              "      <td>0.103416</td>\n",
              "      <td>-0.140760</td>\n",
              "      <td>0.095664</td>\n",
              "      <td>1.000000</td>\n",
              "      <td>-0.116605</td>\n",
              "      <td>0.564924</td>\n",
              "      <td>-0.044511</td>\n",
              "      <td>-0.009456</td>\n",
              "      <td>-0.009500</td>\n",
              "      <td>-0.004710</td>\n",
              "    </tr>\n",
              "    <tr>\n",
              "      <th>CoapplicantIncome</th>\n",
              "      <td>0.073308</td>\n",
              "      <td>0.069877</td>\n",
              "      <td>0.011146</td>\n",
              "      <td>-0.062290</td>\n",
              "      <td>0.052218</td>\n",
              "      <td>-0.116605</td>\n",
              "      <td>1.000000</td>\n",
              "      <td>0.188074</td>\n",
              "      <td>-0.062030</td>\n",
              "      <td>0.004790</td>\n",
              "      <td>0.010522</td>\n",
              "      <td>-0.059187</td>\n",
              "    </tr>\n",
              "    <tr>\n",
              "      <th>LoanAmount</th>\n",
              "      <td>0.138457</td>\n",
              "      <td>0.143059</td>\n",
              "      <td>0.127116</td>\n",
              "      <td>-0.168439</td>\n",
              "      <td>0.087111</td>\n",
              "      <td>0.564924</td>\n",
              "      <td>0.188074</td>\n",
              "      <td>1.000000</td>\n",
              "      <td>0.041683</td>\n",
              "      <td>0.011363</td>\n",
              "      <td>-0.045651</td>\n",
              "      <td>-0.032147</td>\n",
              "    </tr>\n",
              "    <tr>\n",
              "      <th>Loan_Amount_Term</th>\n",
              "      <td>-0.068678</td>\n",
              "      <td>-0.096887</td>\n",
              "      <td>-0.074655</td>\n",
              "      <td>-0.076594</td>\n",
              "      <td>-0.037633</td>\n",
              "      <td>-0.044511</td>\n",
              "      <td>-0.062030</td>\n",
              "      <td>0.041683</td>\n",
              "      <td>1.000000</td>\n",
              "      <td>0.010580</td>\n",
              "      <td>-0.075054</td>\n",
              "      <td>-0.024023</td>\n",
              "    </tr>\n",
              "    <tr>\n",
              "      <th>Credit_History</th>\n",
              "      <td>0.002307</td>\n",
              "      <td>0.000580</td>\n",
              "      <td>-0.072424</td>\n",
              "      <td>-0.089908</td>\n",
              "      <td>0.071095</td>\n",
              "      <td>-0.009456</td>\n",
              "      <td>0.004790</td>\n",
              "      <td>0.011363</td>\n",
              "      <td>0.010580</td>\n",
              "      <td>1.000000</td>\n",
              "      <td>0.000939</td>\n",
              "      <td>0.517012</td>\n",
              "    </tr>\n",
              "    <tr>\n",
              "      <th>Property_Area</th>\n",
              "      <td>-0.030903</td>\n",
              "      <td>0.007973</td>\n",
              "      <td>0.032600</td>\n",
              "      <td>-0.065243</td>\n",
              "      <td>-0.013439</td>\n",
              "      <td>-0.009500</td>\n",
              "      <td>0.010522</td>\n",
              "      <td>-0.045651</td>\n",
              "      <td>-0.075054</td>\n",
              "      <td>0.000939</td>\n",
              "      <td>1.000000</td>\n",
              "      <td>0.032112</td>\n",
              "    </tr>\n",
              "    <tr>\n",
              "      <th>Loan_Status</th>\n",
              "      <td>0.008690</td>\n",
              "      <td>0.096657</td>\n",
              "      <td>-0.007318</td>\n",
              "      <td>-0.085884</td>\n",
              "      <td>0.010880</td>\n",
              "      <td>-0.004710</td>\n",
              "      <td>-0.059187</td>\n",
              "      <td>-0.032147</td>\n",
              "      <td>-0.024023</td>\n",
              "      <td>0.517012</td>\n",
              "      <td>0.032112</td>\n",
              "      <td>1.000000</td>\n",
              "    </tr>\n",
              "  </tbody>\n",
              "</table>\n",
              "</div>"
            ],
            "text/plain": [
              "                     Gender   Married  ...  Property_Area  Loan_Status\n",
              "Gender             1.000000  0.336094  ...      -0.030903     0.008690\n",
              "Married            0.336094  1.000000  ...       0.007973     0.096657\n",
              "Dependents         0.149674  0.338689  ...       0.032600    -0.007318\n",
              "Education          0.024382  0.006759  ...      -0.065243    -0.085884\n",
              "Self_Employed     -0.025022 -0.038153  ...      -0.013439     0.010880\n",
              "ApplicantIncome    0.094472  0.052119  ...      -0.009500    -0.004710\n",
              "CoapplicantIncome  0.073308  0.069877  ...       0.010522    -0.059187\n",
              "LoanAmount         0.138457  0.143059  ...      -0.045651    -0.032147\n",
              "Loan_Amount_Term  -0.068678 -0.096887  ...      -0.075054    -0.024023\n",
              "Credit_History     0.002307  0.000580  ...       0.000939     0.517012\n",
              "Property_Area     -0.030903  0.007973  ...       1.000000     0.032112\n",
              "Loan_Status        0.008690  0.096657  ...       0.032112     1.000000\n",
              "\n",
              "[12 rows x 12 columns]"
            ]
          },
          "metadata": {
            "tags": []
          },
          "execution_count": 19
        }
      ]
    },
    {
      "cell_type": "code",
      "metadata": {
        "id": "xO9iPlj2VRL6",
        "colab_type": "code",
        "outputId": "99bf64f6-c654-4551-b3f2-fc6bcd6d2ca8",
        "colab": {
          "base_uri": "https://localhost:8080/",
          "height": 336
        }
      },
      "source": [
        "print(df_train.head(5))\n",
        "df_test.head()"
      ],
      "execution_count": 20,
      "outputs": [
        {
          "output_type": "stream",
          "text": [
            "    Loan_ID  Gender  Married  ...  Credit_History  Property_Area  Loan_Status\n",
            "0  LP001002       1        0  ...             1.0              2            1\n",
            "1  LP001003       1        1  ...             1.0              0            0\n",
            "2  LP001005       1        1  ...             1.0              2            1\n",
            "3  LP001006       1        1  ...             1.0              2            1\n",
            "4  LP001008       1        0  ...             1.0              2            1\n",
            "\n",
            "[5 rows x 13 columns]\n"
          ],
          "name": "stdout"
        },
        {
          "output_type": "execute_result",
          "data": {
            "text/html": [
              "<div>\n",
              "<style scoped>\n",
              "    .dataframe tbody tr th:only-of-type {\n",
              "        vertical-align: middle;\n",
              "    }\n",
              "\n",
              "    .dataframe tbody tr th {\n",
              "        vertical-align: top;\n",
              "    }\n",
              "\n",
              "    .dataframe thead th {\n",
              "        text-align: right;\n",
              "    }\n",
              "</style>\n",
              "<table border=\"1\" class=\"dataframe\">\n",
              "  <thead>\n",
              "    <tr style=\"text-align: right;\">\n",
              "      <th></th>\n",
              "      <th>Loan_ID</th>\n",
              "      <th>Gender</th>\n",
              "      <th>Married</th>\n",
              "      <th>Dependents</th>\n",
              "      <th>Education</th>\n",
              "      <th>Self_Employed</th>\n",
              "      <th>ApplicantIncome</th>\n",
              "      <th>CoapplicantIncome</th>\n",
              "      <th>LoanAmount</th>\n",
              "      <th>Loan_Amount_Term</th>\n",
              "      <th>Credit_History</th>\n",
              "      <th>Property_Area</th>\n",
              "      <th>Loan_Status</th>\n",
              "    </tr>\n",
              "  </thead>\n",
              "  <tbody>\n",
              "    <tr>\n",
              "      <th>0</th>\n",
              "      <td>LP001015</td>\n",
              "      <td>1</td>\n",
              "      <td>1</td>\n",
              "      <td>0</td>\n",
              "      <td>0</td>\n",
              "      <td>0</td>\n",
              "      <td>5720</td>\n",
              "      <td>0</td>\n",
              "      <td>110.0</td>\n",
              "      <td>360.0</td>\n",
              "      <td>1.0</td>\n",
              "      <td>2</td>\n",
              "      <td>1</td>\n",
              "    </tr>\n",
              "    <tr>\n",
              "      <th>1</th>\n",
              "      <td>LP001022</td>\n",
              "      <td>1</td>\n",
              "      <td>1</td>\n",
              "      <td>1</td>\n",
              "      <td>0</td>\n",
              "      <td>0</td>\n",
              "      <td>3076</td>\n",
              "      <td>1500</td>\n",
              "      <td>126.0</td>\n",
              "      <td>360.0</td>\n",
              "      <td>1.0</td>\n",
              "      <td>2</td>\n",
              "      <td>1</td>\n",
              "    </tr>\n",
              "    <tr>\n",
              "      <th>2</th>\n",
              "      <td>LP001031</td>\n",
              "      <td>1</td>\n",
              "      <td>1</td>\n",
              "      <td>2</td>\n",
              "      <td>0</td>\n",
              "      <td>0</td>\n",
              "      <td>5000</td>\n",
              "      <td>1800</td>\n",
              "      <td>208.0</td>\n",
              "      <td>360.0</td>\n",
              "      <td>1.0</td>\n",
              "      <td>2</td>\n",
              "      <td>1</td>\n",
              "    </tr>\n",
              "    <tr>\n",
              "      <th>3</th>\n",
              "      <td>LP001035</td>\n",
              "      <td>1</td>\n",
              "      <td>1</td>\n",
              "      <td>2</td>\n",
              "      <td>0</td>\n",
              "      <td>0</td>\n",
              "      <td>2340</td>\n",
              "      <td>2546</td>\n",
              "      <td>100.0</td>\n",
              "      <td>360.0</td>\n",
              "      <td>1.0</td>\n",
              "      <td>2</td>\n",
              "      <td>1</td>\n",
              "    </tr>\n",
              "    <tr>\n",
              "      <th>4</th>\n",
              "      <td>LP001051</td>\n",
              "      <td>1</td>\n",
              "      <td>0</td>\n",
              "      <td>0</td>\n",
              "      <td>1</td>\n",
              "      <td>0</td>\n",
              "      <td>3276</td>\n",
              "      <td>0</td>\n",
              "      <td>78.0</td>\n",
              "      <td>360.0</td>\n",
              "      <td>1.0</td>\n",
              "      <td>2</td>\n",
              "      <td>1</td>\n",
              "    </tr>\n",
              "  </tbody>\n",
              "</table>\n",
              "</div>"
            ],
            "text/plain": [
              "    Loan_ID  Gender  Married  ...  Credit_History  Property_Area  Loan_Status\n",
              "0  LP001015       1        1  ...             1.0              2            1\n",
              "1  LP001022       1        1  ...             1.0              2            1\n",
              "2  LP001031       1        1  ...             1.0              2            1\n",
              "3  LP001035       1        1  ...             1.0              2            1\n",
              "4  LP001051       1        0  ...             1.0              2            1\n",
              "\n",
              "[5 rows x 13 columns]"
            ]
          },
          "metadata": {
            "tags": []
          },
          "execution_count": 20
        }
      ]
    },
    {
      "cell_type": "markdown",
      "metadata": {
        "id": "R4fwxkn_zY0A",
        "colab_type": "text"
      },
      "source": [
        "### **Splitting the dataset in train and test data**"
      ]
    },
    {
      "cell_type": "code",
      "metadata": {
        "id": "AFredjrPUo8_",
        "colab_type": "code",
        "colab": {}
      },
      "source": [
        "X_train=df_train.iloc[:,1:12]\n",
        "Y_train=df_train.iloc[:,12:13]\n",
        "X_test=df_test.iloc[:,1:12]\n",
        "Y_test=df_test.iloc[:,12:13]"
      ],
      "execution_count": 0,
      "outputs": []
    },
    {
      "cell_type": "markdown",
      "metadata": {
        "id": "PEMw6NnKzqpQ",
        "colab_type": "text"
      },
      "source": [
        "### **Logistic Regression**"
      ]
    },
    {
      "cell_type": "code",
      "metadata": {
        "id": "zfO8oO4VVr2f",
        "colab_type": "code",
        "colab": {}
      },
      "source": [
        "from sklearn.linear_model import LogisticRegression\n",
        "model_LR=LogisticRegression()"
      ],
      "execution_count": 0,
      "outputs": []
    },
    {
      "cell_type": "code",
      "metadata": {
        "id": "AQlvKT-dWvzj",
        "colab_type": "code",
        "outputId": "df15fdd5-64cb-4eb6-8c6c-4b3b31445c7c",
        "colab": {
          "base_uri": "https://localhost:8080/",
          "height": 248
        }
      },
      "source": [
        "model_LR.fit(X_train,Y_train.values.ravel())"
      ],
      "execution_count": 23,
      "outputs": [
        {
          "output_type": "stream",
          "text": [
            "/usr/local/lib/python3.6/dist-packages/sklearn/linear_model/_logistic.py:940: ConvergenceWarning: lbfgs failed to converge (status=1):\n",
            "STOP: TOTAL NO. of ITERATIONS REACHED LIMIT.\n",
            "\n",
            "Increase the number of iterations (max_iter) or scale the data as shown in:\n",
            "    https://scikit-learn.org/stable/modules/preprocessing.html\n",
            "Please also refer to the documentation for alternative solver options:\n",
            "    https://scikit-learn.org/stable/modules/linear_model.html#logistic-regression\n",
            "  extra_warning_msg=_LOGISTIC_SOLVER_CONVERGENCE_MSG)\n"
          ],
          "name": "stderr"
        },
        {
          "output_type": "execute_result",
          "data": {
            "text/plain": [
              "LogisticRegression(C=1.0, class_weight=None, dual=False, fit_intercept=True,\n",
              "                   intercept_scaling=1, l1_ratio=None, max_iter=100,\n",
              "                   multi_class='auto', n_jobs=None, penalty='l2',\n",
              "                   random_state=None, solver='lbfgs', tol=0.0001, verbose=0,\n",
              "                   warm_start=False)"
            ]
          },
          "metadata": {
            "tags": []
          },
          "execution_count": 23
        }
      ]
    },
    {
      "cell_type": "code",
      "metadata": {
        "id": "uGZdQAZ1WzNE",
        "colab_type": "code",
        "colab": {}
      },
      "source": [
        "Y_predicted=model_LR.predict(X_test)\n"
      ],
      "execution_count": 0,
      "outputs": []
    },
    {
      "cell_type": "markdown",
      "metadata": {
        "id": "nO-3dRrizx3n",
        "colab_type": "text"
      },
      "source": [
        "### **Performance Evaluation of Logistic Regression**"
      ]
    },
    {
      "cell_type": "code",
      "metadata": {
        "id": "eDSFm98AXG-D",
        "colab_type": "code",
        "outputId": "ac319d1e-a72f-4cd3-c087-cd63c26c54fa",
        "colab": {
          "base_uri": "https://localhost:8080/",
          "height": 35
        }
      },
      "source": [
        "acc_LR=model_LR.score(X_test,Y_test)\n",
        "print(acc_LR)"
      ],
      "execution_count": 25,
      "outputs": [
        {
          "output_type": "stream",
          "text": [
            "0.9945504087193461\n"
          ],
          "name": "stdout"
        }
      ]
    },
    {
      "cell_type": "code",
      "metadata": {
        "id": "R6eVNWdGBCsV",
        "colab_type": "code",
        "outputId": "526b83ca-9e49-4643-e4a7-34c471cb03ea",
        "colab": {
          "base_uri": "https://localhost:8080/",
          "height": 35
        }
      },
      "source": [
        "mae_LR=metrics.mean_absolute_error(Y_test, Y_predicted)\n",
        "mse_LR=metrics.mean_squared_error(Y_test, Y_predicted) \n",
        "print(mae_LR,mse_LR)"
      ],
      "execution_count": 26,
      "outputs": [
        {
          "output_type": "stream",
          "text": [
            "0.005449591280653951 0.005449591280653951\n"
          ],
          "name": "stdout"
        }
      ]
    },
    {
      "cell_type": "code",
      "metadata": {
        "id": "Pmwv9jLbhS2m",
        "colab_type": "code",
        "outputId": "ad890c97-f731-49de-ed81-cc78b14c16c5",
        "colab": {
          "base_uri": "https://localhost:8080/",
          "height": 212
        }
      },
      "source": [
        "from sklearn.metrics import confusion_matrix,classification_report\n",
        "print(confusion_matrix(Y_test,Y_predicted))\n",
        "print(classification_report(Y_test,Y_predicted))"
      ],
      "execution_count": 27,
      "outputs": [
        {
          "output_type": "stream",
          "text": [
            "[[ 57   1]\n",
            " [  1 308]]\n",
            "              precision    recall  f1-score   support\n",
            "\n",
            "           0       0.98      0.98      0.98        58\n",
            "           1       1.00      1.00      1.00       309\n",
            "\n",
            "    accuracy                           0.99       367\n",
            "   macro avg       0.99      0.99      0.99       367\n",
            "weighted avg       0.99      0.99      0.99       367\n",
            "\n"
          ],
          "name": "stdout"
        }
      ]
    },
    {
      "cell_type": "markdown",
      "metadata": {
        "id": "s1P20Hen0BTt",
        "colab_type": "text"
      },
      "source": [
        "### **Support Vector Machine**"
      ]
    },
    {
      "cell_type": "code",
      "metadata": {
        "id": "Kc1aKFDX-8Px",
        "colab_type": "code",
        "colab": {}
      },
      "source": [
        "from sklearn.svm import SVC\n",
        "model_SVC = SVC(kernel='linear')"
      ],
      "execution_count": 0,
      "outputs": []
    },
    {
      "cell_type": "code",
      "metadata": {
        "id": "IYI468U1_NCR",
        "colab_type": "code",
        "outputId": "d655e455-f488-4594-e975-d41d0afe36c2",
        "colab": {
          "base_uri": "https://localhost:8080/",
          "height": 88
        }
      },
      "source": [
        "model_SVC.fit(X_train,Y_train.values.ravel())"
      ],
      "execution_count": 29,
      "outputs": [
        {
          "output_type": "execute_result",
          "data": {
            "text/plain": [
              "SVC(C=1.0, break_ties=False, cache_size=200, class_weight=None, coef0=0.0,\n",
              "    decision_function_shape='ovr', degree=3, gamma='scale', kernel='linear',\n",
              "    max_iter=-1, probability=False, random_state=None, shrinking=True,\n",
              "    tol=0.001, verbose=False)"
            ]
          },
          "metadata": {
            "tags": []
          },
          "execution_count": 29
        }
      ]
    },
    {
      "cell_type": "markdown",
      "metadata": {
        "id": "8h-p7AMO0FyM",
        "colab_type": "text"
      },
      "source": [
        "### **Performance Evaluation of Support Vector Classifier**"
      ]
    },
    {
      "cell_type": "code",
      "metadata": {
        "id": "F0Bzrl67_XL-",
        "colab_type": "code",
        "outputId": "497c9eee-a5e9-43b1-bf5d-aaa669644337",
        "colab": {
          "base_uri": "https://localhost:8080/",
          "height": 35
        }
      },
      "source": [
        "model_SVC.score(X_test,Y_test.values.ravel())"
      ],
      "execution_count": 30,
      "outputs": [
        {
          "output_type": "execute_result",
          "data": {
            "text/plain": [
              "0.9863760217983651"
            ]
          },
          "metadata": {
            "tags": []
          },
          "execution_count": 30
        }
      ]
    },
    {
      "cell_type": "code",
      "metadata": {
        "id": "wXnC6G2W__uV",
        "colab_type": "code",
        "colab": {}
      },
      "source": [
        "Y_predicted=model_SVC.predict(X_test)"
      ],
      "execution_count": 0,
      "outputs": []
    },
    {
      "cell_type": "code",
      "metadata": {
        "id": "hTZCUP043EBa",
        "colab_type": "code",
        "outputId": "e5b71102-ebae-42a7-e08e-13ee4a2a5960",
        "colab": {
          "base_uri": "https://localhost:8080/",
          "height": 35
        }
      },
      "source": [
        "acc_SVC=model_SVC.score(X_test,Y_test.values.ravel())\n",
        "print(acc_SVC)"
      ],
      "execution_count": 32,
      "outputs": [
        {
          "output_type": "stream",
          "text": [
            "0.9863760217983651\n"
          ],
          "name": "stdout"
        }
      ]
    },
    {
      "cell_type": "code",
      "metadata": {
        "id": "NqNmIFBZAKny",
        "colab_type": "code",
        "outputId": "f10f0192-f261-4b16-c58f-27c3da08dbef",
        "colab": {
          "base_uri": "https://localhost:8080/",
          "height": 35
        }
      },
      "source": [
        "mae_SVC=metrics.mean_absolute_error(Y_test, Y_predicted)\n",
        "mse_SVC=metrics.mean_squared_error(Y_test, Y_predicted)\n",
        "print(mae_SVC,mse_SVC) "
      ],
      "execution_count": 33,
      "outputs": [
        {
          "output_type": "stream",
          "text": [
            "0.013623978201634877 0.013623978201634877\n"
          ],
          "name": "stdout"
        }
      ]
    },
    {
      "cell_type": "markdown",
      "metadata": {
        "id": "HTgoyXRE0PVh",
        "colab_type": "text"
      },
      "source": [
        "### **Decision Tree**"
      ]
    },
    {
      "cell_type": "code",
      "metadata": {
        "id": "YBYjpC4M7ytm",
        "colab_type": "code",
        "colab": {}
      },
      "source": [
        "from sklearn import tree\n",
        "model_DT = tree.DecisionTreeClassifier(max_depth=10)"
      ],
      "execution_count": 0,
      "outputs": []
    },
    {
      "cell_type": "code",
      "metadata": {
        "id": "DtDd1jgX79xm",
        "colab_type": "code",
        "outputId": "7655d423-3a8b-4ead-bcbe-aefa138fceb7",
        "colab": {
          "base_uri": "https://localhost:8080/",
          "height": 124
        }
      },
      "source": [
        "model_DT.fit(X_train,Y_train)"
      ],
      "execution_count": 35,
      "outputs": [
        {
          "output_type": "execute_result",
          "data": {
            "text/plain": [
              "DecisionTreeClassifier(ccp_alpha=0.0, class_weight=None, criterion='gini',\n",
              "                       max_depth=10, max_features=None, max_leaf_nodes=None,\n",
              "                       min_impurity_decrease=0.0, min_impurity_split=None,\n",
              "                       min_samples_leaf=1, min_samples_split=2,\n",
              "                       min_weight_fraction_leaf=0.0, presort='deprecated',\n",
              "                       random_state=None, splitter='best')"
            ]
          },
          "metadata": {
            "tags": []
          },
          "execution_count": 35
        }
      ]
    },
    {
      "cell_type": "code",
      "metadata": {
        "id": "aA9kAAcN37mw",
        "colab_type": "code",
        "colab": {}
      },
      "source": [
        "Y_predicted=model_DT.predict(X_test)"
      ],
      "execution_count": 0,
      "outputs": []
    },
    {
      "cell_type": "markdown",
      "metadata": {
        "id": "CL89hbdN0TBa",
        "colab_type": "text"
      },
      "source": [
        "### **Performance Evaluation of D-Tree Classifier**"
      ]
    },
    {
      "cell_type": "code",
      "metadata": {
        "id": "bx5WMdBm9JCL",
        "colab_type": "code",
        "outputId": "734e0afd-baa4-4cf7-d22c-9524f167ff72",
        "colab": {
          "base_uri": "https://localhost:8080/",
          "height": 35
        }
      },
      "source": [
        "acc_DT=model_DT.score(X_test,Y_test)\n",
        "print(acc_DT)"
      ],
      "execution_count": 37,
      "outputs": [
        {
          "output_type": "stream",
          "text": [
            "0.888283378746594\n"
          ],
          "name": "stdout"
        }
      ]
    },
    {
      "cell_type": "code",
      "metadata": {
        "id": "gA0yB0xV3fkB",
        "colab_type": "code",
        "colab": {}
      },
      "source": [
        "mae_DT=metrics.mean_absolute_error(Y_test,Y_predicted)\n",
        "mse_DT=metrics.mean_squared_error(Y_test,Y_predicted)"
      ],
      "execution_count": 0,
      "outputs": []
    },
    {
      "cell_type": "code",
      "metadata": {
        "id": "D5wDILXhg-eJ",
        "colab_type": "code",
        "outputId": "8b7256b5-4c50-40c9-bca2-720e120a83a4",
        "colab": {
          "base_uri": "https://localhost:8080/",
          "height": 212
        }
      },
      "source": [
        "from sklearn.metrics import confusion_matrix,classification_report\n",
        "print(confusion_matrix(Y_test,Y_predicted))\n",
        "print(classification_report(Y_test,Y_predicted))"
      ],
      "execution_count": 39,
      "outputs": [
        {
          "output_type": "stream",
          "text": [
            "[[ 57   1]\n",
            " [ 40 269]]\n",
            "              precision    recall  f1-score   support\n",
            "\n",
            "           0       0.59      0.98      0.74        58\n",
            "           1       1.00      0.87      0.93       309\n",
            "\n",
            "    accuracy                           0.89       367\n",
            "   macro avg       0.79      0.93      0.83       367\n",
            "weighted avg       0.93      0.89      0.90       367\n",
            "\n"
          ],
          "name": "stdout"
        }
      ]
    },
    {
      "cell_type": "markdown",
      "metadata": {
        "id": "M3B93Vnu0Y8W",
        "colab_type": "text"
      },
      "source": [
        "### **K Nearest Neighbors**"
      ]
    },
    {
      "cell_type": "code",
      "metadata": {
        "id": "PcC1i-P5Yvf9",
        "colab_type": "code",
        "colab": {}
      },
      "source": [
        "from sklearn.neighbors import KNeighborsClassifier\n",
        "model_KNN = KNeighborsClassifier()"
      ],
      "execution_count": 0,
      "outputs": []
    },
    {
      "cell_type": "markdown",
      "metadata": {
        "id": "cMsyTTBS0jUD",
        "colab_type": "text"
      },
      "source": [
        "### **Determining the k-value with the help of cross validation**"
      ]
    },
    {
      "cell_type": "code",
      "metadata": {
        "id": "x-xfucQyZHM0",
        "colab_type": "code",
        "colab": {}
      },
      "source": [
        "accuracy_rate = []\n",
        "error_rate=[]\n",
        "\n",
        "for i in range(1,40):\n",
        "    \n",
        "    knn = KNeighborsClassifier(n_neighbors=i)\n",
        "    score=cross_val_score(knn,X_train,Y_train,cv=10)\n",
        "    accuracy_rate.append(score.mean())\n",
        "    error_rate.append(1-score.mean())"
      ],
      "execution_count": 0,
      "outputs": []
    },
    {
      "cell_type": "code",
      "metadata": {
        "id": "EKUHdf8caITV",
        "colab_type": "code",
        "outputId": "3fcba39f-a0e2-4717-aa0d-db0878b049a6",
        "colab": {
          "base_uri": "https://localhost:8080/",
          "height": 422
        }
      },
      "source": [
        "plt.figure(figsize=(10,6))\n",
        "plt.plot(range(1,40),accuracy_rate,color='blue', linestyle='dashed', marker='o',\n",
        "         markerfacecolor='red', markersize=10)\n",
        "plt.title('Error Rate vs. K Value')\n",
        "plt.xlabel('K')\n",
        "plt.ylabel('Error Rate')"
      ],
      "execution_count": 42,
      "outputs": [
        {
          "output_type": "execute_result",
          "data": {
            "text/plain": [
              "Text(0, 0.5, 'Error Rate')"
            ]
          },
          "metadata": {
            "tags": []
          },
          "execution_count": 42
        },
        {
          "output_type": "display_data",
          "data": {
            "image/png": "[encoded data removed]",
            "text/plain": [
              "<Figure size 720x432 with 1 Axes>"
            ]
          },
          "metadata": {
            "tags": [],
            "needs_background": "light"
          }
        }
      ]
    },
    {
      "cell_type": "code",
      "metadata": {
        "id": "45V_FAsCcVS0",
        "colab_type": "code",
        "colab": {}
      },
      "source": [
        "model_KNN = KNeighborsClassifier(n_neighbors=25)"
      ],
      "execution_count": 0,
      "outputs": []
    },
    {
      "cell_type": "code",
      "metadata": {
        "id": "T8Iuz18nce1c",
        "colab_type": "code",
        "colab": {}
      },
      "source": [
        "model_KNN.fit(X_train,Y_train.values.ravel())\n",
        "Y_predicted=model_KNN.predict(X_test)"
      ],
      "execution_count": 0,
      "outputs": []
    },
    {
      "cell_type": "markdown",
      "metadata": {
        "id": "qMuTcrE10y66",
        "colab_type": "text"
      },
      "source": [
        "### **Performance Evaluation of kNN**"
      ]
    },
    {
      "cell_type": "code",
      "metadata": {
        "id": "wlJ_QNMa4ELl",
        "colab_type": "code",
        "outputId": "697eca11-1c66-434c-a2ab-a6b7f94063d7",
        "colab": {
          "base_uri": "https://localhost:8080/",
          "height": 35
        }
      },
      "source": [
        "acc_kNN=model_KNN.score(X_test,Y_test)\n",
        "print(acc_kNN)"
      ],
      "execution_count": 45,
      "outputs": [
        {
          "output_type": "stream",
          "text": [
            "0.8201634877384196\n"
          ],
          "name": "stdout"
        }
      ]
    },
    {
      "cell_type": "code",
      "metadata": {
        "id": "WY9vU7MR4N5b",
        "colab_type": "code",
        "outputId": "62f9c7a1-93b0-4f38-c8fb-a1c694f26de4",
        "colab": {
          "base_uri": "https://localhost:8080/",
          "height": 35
        }
      },
      "source": [
        "mae_kNN=metrics.mean_absolute_error(Y_test,Y_predicted)\n",
        "mse_kNN=metrics.mean_squared_error(Y_test,Y_predicted)\n",
        "print(mae_kNN,mse_kNN)"
      ],
      "execution_count": 46,
      "outputs": [
        {
          "output_type": "stream",
          "text": [
            "0.17983651226158037 0.17983651226158037\n"
          ],
          "name": "stdout"
        }
      ]
    },
    {
      "cell_type": "code",
      "metadata": {
        "id": "2Mjv3iT7cyRk",
        "colab_type": "code",
        "outputId": "e30aaa8a-4276-4b2f-b8b2-bc046f59cf09",
        "colab": {
          "base_uri": "https://localhost:8080/",
          "height": 212
        }
      },
      "source": [
        "from sklearn.metrics import confusion_matrix,classification_report\n",
        "print(confusion_matrix(Y_test,Y_predicted))\n",
        "print(classification_report(Y_test,Y_predicted))"
      ],
      "execution_count": 47,
      "outputs": [
        {
          "output_type": "stream",
          "text": [
            "[[  4  54]\n",
            " [ 12 297]]\n",
            "              precision    recall  f1-score   support\n",
            "\n",
            "           0       0.25      0.07      0.11        58\n",
            "           1       0.85      0.96      0.90       309\n",
            "\n",
            "    accuracy                           0.82       367\n",
            "   macro avg       0.55      0.52      0.50       367\n",
            "weighted avg       0.75      0.82      0.77       367\n",
            "\n"
          ],
          "name": "stdout"
        }
      ]
    },
    {
      "cell_type": "markdown",
      "metadata": {
        "id": "QlbP-Z1t13hb",
        "colab_type": "text"
      },
      "source": [
        "### **Comparision of all the models**"
      ]
    },
    {
      "cell_type": "code",
      "metadata": {
        "id": "wCD2mxus18dx",
        "colab_type": "code",
        "outputId": "775773ea-2b71-4a0a-e0ea-efbc077b6f46",
        "colab": {
          "base_uri": "https://localhost:8080/",
          "height": 164
        }
      },
      "source": [
        "models_comparison=pd.DataFrame(\n",
        "    {\n",
        "        'Model': ['Logistic Regression','Support Vector Machine','Decision Tree','k Nearest Neighbors'],\n",
        "        'Score': [acc_LR,acc_SVC,acc_DT,acc_kNN],\n",
        "        'Mean Absolute Error':[mae_LR,mae_SVC,mae_DT,mae_kNN],\n",
        "        'Mean Squared Error': [mse_LR,mse_SVC,mse_DT,mse_kNN]      \n",
        "     \n",
        "    }\n",
        ")\n",
        "models_comparison"
      ],
      "execution_count": 48,
      "outputs": [
        {
          "output_type": "execute_result",
          "data": {
            "text/html": [
              "<div>\n",
              "<style scoped>\n",
              "    .dataframe tbody tr th:only-of-type {\n",
              "        vertical-align: middle;\n",
              "    }\n",
              "\n",
              "    .dataframe tbody tr th {\n",
              "        vertical-align: top;\n",
              "    }\n",
              "\n",
              "    .dataframe thead th {\n",
              "        text-align: right;\n",
              "    }\n",
              "</style>\n",
              "<table border=\"1\" class=\"dataframe\">\n",
              "  <thead>\n",
              "    <tr style=\"text-align: right;\">\n",
              "      <th></th>\n",
              "      <th>Model</th>\n",
              "      <th>Score</th>\n",
              "      <th>Mean Absolute Error</th>\n",
              "      <th>Mean Squared Error</th>\n",
              "    </tr>\n",
              "  </thead>\n",
              "  <tbody>\n",
              "    <tr>\n",
              "      <th>0</th>\n",
              "      <td>Logistic Regression</td>\n",
              "      <td>0.994550</td>\n",
              "      <td>0.005450</td>\n",
              "      <td>0.005450</td>\n",
              "    </tr>\n",
              "    <tr>\n",
              "      <th>1</th>\n",
              "      <td>Support Vector Machine</td>\n",
              "      <td>0.986376</td>\n",
              "      <td>0.013624</td>\n",
              "      <td>0.013624</td>\n",
              "    </tr>\n",
              "    <tr>\n",
              "      <th>2</th>\n",
              "      <td>Decision Tree</td>\n",
              "      <td>0.888283</td>\n",
              "      <td>0.111717</td>\n",
              "      <td>0.111717</td>\n",
              "    </tr>\n",
              "    <tr>\n",
              "      <th>3</th>\n",
              "      <td>k Nearest Neighbors</td>\n",
              "      <td>0.820163</td>\n",
              "      <td>0.179837</td>\n",
              "      <td>0.179837</td>\n",
              "    </tr>\n",
              "  </tbody>\n",
              "</table>\n",
              "</div>"
            ],
            "text/plain": [
              "                    Model     Score  Mean Absolute Error  Mean Squared Error\n",
              "0     Logistic Regression  0.994550             0.005450            0.005450\n",
              "1  Support Vector Machine  0.986376             0.013624            0.013624\n",
              "2           Decision Tree  0.888283             0.111717            0.111717\n",
              "3     k Nearest Neighbors  0.820163             0.179837            0.179837"
            ]
          },
          "metadata": {
            "tags": []
          },
          "execution_count": 48
        }
      ]
    }
  ]
}
